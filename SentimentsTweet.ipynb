{
  "nbformat": 4,
  "nbformat_minor": 0,
  "metadata": {
    "colab": {
      "provenance": [],
      "authorship_tag": "ABX9TyP4uM45bP/8guMgpttDpgms",
      "include_colab_link": true
    },
    "kernelspec": {
      "name": "python3",
      "display_name": "Python 3"
    },
    "language_info": {
      "name": "python"
    }
  },
  "cells": [
    {
      "cell_type": "markdown",
      "metadata": {
        "id": "view-in-github",
        "colab_type": "text"
      },
      "source": [
        "<a href=\"https://colab.research.google.com/github/igabypy/Natural-Language-Processing/blob/main/SentimentsTweet.ipynb\" target=\"_parent\"><img src=\"https://colab.research.google.com/assets/colab-badge.svg\" alt=\"Open In Colab\"/></a>"
      ]
    },
    {
      "cell_type": "code",
      "source": [
        "import pandas as pd\n",
        "import matplotlib.pyplot as plt\n",
        "\n",
        "from prettytable import PrettyTable\n",
        "import missingno as msno\n",
        "from wordcloud import WordCloud, STOPWORDS #to create cloud words\n"
      ],
      "metadata": {
        "id": "e_17I76AIS8j"
      },
      "execution_count": null,
      "outputs": []
    },
    {
      "cell_type": "markdown",
      "source": [
        "### <font color='purple'> To import google drive"
      ],
      "metadata": {
        "id": "YADBU2kYEsdL"
      }
    },
    {
      "cell_type": "code",
      "execution_count": null,
      "metadata": {
        "colab": {
          "base_uri": "https://localhost:8080/"
        },
        "id": "Y-TU0GAOyT4r",
        "outputId": "c85748f9-2fe9-4320-f535-f9becca8fa70"
      },
      "outputs": [
        {
          "output_type": "stream",
          "name": "stdout",
          "text": [
            "Mounted at /content/drive\n"
          ]
        }
      ],
      "source": [
        "from google.colab import drive\n",
        "drive.mount('/content/drive')"
      ]
    },
    {
      "cell_type": "code",
      "source": [
        "df_test = pd.read_csv(\"/content/drive/MyDrive/AI projects/NPL models/test.csv\", encoding='latin_1')\n",
        "df_train = pd.read_csv(\"/content/drive/MyDrive/AI projects/NPL models/train.csv\", encoding='latin_1')"
      ],
      "metadata": {
        "id": "kmDORdjQEkO5"
      },
      "execution_count": null,
      "outputs": []
    },
    {
      "cell_type": "code",
      "source": [
        "df_train.head()"
      ],
      "metadata": {
        "id": "mqWNrWQSK-3i",
        "colab": {
          "base_uri": "https://localhost:8080/",
          "height": 302
        },
        "outputId": "58249e94-c14d-4ca7-c83b-5a540fe9126e"
      },
      "execution_count": null,
      "outputs": [
        {
          "output_type": "execute_result",
          "data": {
            "text/plain": [
              "       textID                                               text  \\\n",
              "0  cb774db0d1                I`d have responded, if I were going   \n",
              "1  549e992a42      Sooo SAD I will miss you here in San Diego!!!   \n",
              "2  088c60f138                          my boss is bullying me...   \n",
              "3  9642c003ef                     what interview! leave me alone   \n",
              "4  358bd9e861   Sons of ****, why couldn`t they put them on t...   \n",
              "\n",
              "                         selected_text sentiment  \n",
              "0  I`d have responded, if I were going   neutral  \n",
              "1                             Sooo SAD  negative  \n",
              "2                          bullying me  negative  \n",
              "3                       leave me alone  negative  \n",
              "4                        Sons of ****,  negative  "
            ],
            "text/html": [
              "\n",
              "  <div id=\"df-08b719e0-615d-474c-9795-f7a104400f18\">\n",
              "    <div class=\"colab-df-container\">\n",
              "      <div>\n",
              "<style scoped>\n",
              "    .dataframe tbody tr th:only-of-type {\n",
              "        vertical-align: middle;\n",
              "    }\n",
              "\n",
              "    .dataframe tbody tr th {\n",
              "        vertical-align: top;\n",
              "    }\n",
              "\n",
              "    .dataframe thead th {\n",
              "        text-align: right;\n",
              "    }\n",
              "</style>\n",
              "<table border=\"1\" class=\"dataframe\">\n",
              "  <thead>\n",
              "    <tr style=\"text-align: right;\">\n",
              "      <th></th>\n",
              "      <th>textID</th>\n",
              "      <th>text</th>\n",
              "      <th>selected_text</th>\n",
              "      <th>sentiment</th>\n",
              "    </tr>\n",
              "  </thead>\n",
              "  <tbody>\n",
              "    <tr>\n",
              "      <th>0</th>\n",
              "      <td>cb774db0d1</td>\n",
              "      <td>I`d have responded, if I were going</td>\n",
              "      <td>I`d have responded, if I were going</td>\n",
              "      <td>neutral</td>\n",
              "    </tr>\n",
              "    <tr>\n",
              "      <th>1</th>\n",
              "      <td>549e992a42</td>\n",
              "      <td>Sooo SAD I will miss you here in San Diego!!!</td>\n",
              "      <td>Sooo SAD</td>\n",
              "      <td>negative</td>\n",
              "    </tr>\n",
              "    <tr>\n",
              "      <th>2</th>\n",
              "      <td>088c60f138</td>\n",
              "      <td>my boss is bullying me...</td>\n",
              "      <td>bullying me</td>\n",
              "      <td>negative</td>\n",
              "    </tr>\n",
              "    <tr>\n",
              "      <th>3</th>\n",
              "      <td>9642c003ef</td>\n",
              "      <td>what interview! leave me alone</td>\n",
              "      <td>leave me alone</td>\n",
              "      <td>negative</td>\n",
              "    </tr>\n",
              "    <tr>\n",
              "      <th>4</th>\n",
              "      <td>358bd9e861</td>\n",
              "      <td>Sons of ****, why couldn`t they put them on t...</td>\n",
              "      <td>Sons of ****,</td>\n",
              "      <td>negative</td>\n",
              "    </tr>\n",
              "  </tbody>\n",
              "</table>\n",
              "</div>\n",
              "      <button class=\"colab-df-convert\" onclick=\"convertToInteractive('df-08b719e0-615d-474c-9795-f7a104400f18')\"\n",
              "              title=\"Convert this dataframe to an interactive table.\"\n",
              "              style=\"display:none;\">\n",
              "        \n",
              "  <svg xmlns=\"http://www.w3.org/2000/svg\" height=\"24px\"viewBox=\"0 0 24 24\"\n",
              "       width=\"24px\">\n",
              "    <path d=\"M0 0h24v24H0V0z\" fill=\"none\"/>\n",
              "    <path d=\"M18.56 5.44l.94 2.06.94-2.06 2.06-.94-2.06-.94-.94-2.06-.94 2.06-2.06.94zm-11 1L8.5 8.5l.94-2.06 2.06-.94-2.06-.94L8.5 2.5l-.94 2.06-2.06.94zm10 10l.94 2.06.94-2.06 2.06-.94-2.06-.94-.94-2.06-.94 2.06-2.06.94z\"/><path d=\"M17.41 7.96l-1.37-1.37c-.4-.4-.92-.59-1.43-.59-.52 0-1.04.2-1.43.59L10.3 9.45l-7.72 7.72c-.78.78-.78 2.05 0 2.83L4 21.41c.39.39.9.59 1.41.59.51 0 1.02-.2 1.41-.59l7.78-7.78 2.81-2.81c.8-.78.8-2.07 0-2.86zM5.41 20L4 18.59l7.72-7.72 1.47 1.35L5.41 20z\"/>\n",
              "  </svg>\n",
              "      </button>\n",
              "      \n",
              "  <style>\n",
              "    .colab-df-container {\n",
              "      display:flex;\n",
              "      flex-wrap:wrap;\n",
              "      gap: 12px;\n",
              "    }\n",
              "\n",
              "    .colab-df-convert {\n",
              "      background-color: #E8F0FE;\n",
              "      border: none;\n",
              "      border-radius: 50%;\n",
              "      cursor: pointer;\n",
              "      display: none;\n",
              "      fill: #1967D2;\n",
              "      height: 32px;\n",
              "      padding: 0 0 0 0;\n",
              "      width: 32px;\n",
              "    }\n",
              "\n",
              "    .colab-df-convert:hover {\n",
              "      background-color: #E2EBFA;\n",
              "      box-shadow: 0px 1px 2px rgba(60, 64, 67, 0.3), 0px 1px 3px 1px rgba(60, 64, 67, 0.15);\n",
              "      fill: #174EA6;\n",
              "    }\n",
              "\n",
              "    [theme=dark] .colab-df-convert {\n",
              "      background-color: #3B4455;\n",
              "      fill: #D2E3FC;\n",
              "    }\n",
              "\n",
              "    [theme=dark] .colab-df-convert:hover {\n",
              "      background-color: #434B5C;\n",
              "      box-shadow: 0px 1px 3px 1px rgba(0, 0, 0, 0.15);\n",
              "      filter: drop-shadow(0px 1px 2px rgba(0, 0, 0, 0.3));\n",
              "      fill: #FFFFFF;\n",
              "    }\n",
              "  </style>\n",
              "\n",
              "      <script>\n",
              "        const buttonEl =\n",
              "          document.querySelector('#df-08b719e0-615d-474c-9795-f7a104400f18 button.colab-df-convert');\n",
              "        buttonEl.style.display =\n",
              "          google.colab.kernel.accessAllowed ? 'block' : 'none';\n",
              "\n",
              "        async function convertToInteractive(key) {\n",
              "          const element = document.querySelector('#df-08b719e0-615d-474c-9795-f7a104400f18');\n",
              "          const dataTable =\n",
              "            await google.colab.kernel.invokeFunction('convertToInteractive',\n",
              "                                                     [key], {});\n",
              "          if (!dataTable) return;\n",
              "\n",
              "          const docLinkHtml = 'Like what you see? Visit the ' +\n",
              "            '<a target=\"_blank\" href=https://colab.research.google.com/notebooks/data_table.ipynb>data table notebook</a>'\n",
              "            + ' to learn more about interactive tables.';\n",
              "          element.innerHTML = '';\n",
              "          dataTable['output_type'] = 'display_data';\n",
              "          await google.colab.output.renderOutput(dataTable, element);\n",
              "          const docLink = document.createElement('div');\n",
              "          docLink.innerHTML = docLinkHtml;\n",
              "          element.appendChild(docLink);\n",
              "        }\n",
              "      </script>\n",
              "    </div>\n",
              "  </div>\n",
              "  "
            ]
          },
          "metadata": {},
          "execution_count": 4
        }
      ]
    },
    {
      "cell_type": "code",
      "source": [
        "# to see the data types\n",
        "t = PrettyTable(['Inputs', 'data type'])\n",
        "\n",
        "for i in range(len(df_train.dtypes)):\n",
        "  t.add_row([f'{df_train.columns[i]}', f'{df_train.dtypes[i]}'])\n",
        "print(t) "
      ],
      "metadata": {
        "colab": {
          "base_uri": "https://localhost:8080/"
        },
        "id": "9se3ps9So8Rt",
        "outputId": "9a4c75ff-e2a0-4371-b8e9-d554d028ec93"
      },
      "execution_count": null,
      "outputs": [
        {
          "output_type": "stream",
          "name": "stdout",
          "text": [
            "+---------------+-----------+\n",
            "|     Inputs    | data type |\n",
            "+---------------+-----------+\n",
            "|     textID    |   object  |\n",
            "|      text     |   object  |\n",
            "| selected_text |   object  |\n",
            "|   sentiment   |   object  |\n",
            "+---------------+-----------+\n"
          ]
        }
      ]
    },
    {
      "cell_type": "code",
      "source": [
        "# To transforma or get shure that all the data are string type \n",
        "\n",
        "df_train['text'] = df_train['text'].astype(str)\n",
        "df_train['sentiment']=df_train['sentiment'].astype(str)\n",
        "\n",
        "df_test['text'] = df_test['text'].astype(str)\n",
        "df_test['sentiment'] = df_test['sentiment'].astype(str)"
      ],
      "metadata": {
        "id": "EA6NXASVvB_h"
      },
      "execution_count": null,
      "outputs": []
    },
    {
      "cell_type": "code",
      "source": [
        "# We check if there are any emty space\n",
        "\n",
        "t = PrettyTable(['inputs','# empty spaces'])\n",
        "\n",
        "for i in range(len(df_train.columns)):\n",
        "  t.add_row([f'{df_train.columns[i]}',f'{df_train.isnull().sum()[i] }'])\n",
        "\n",
        "print(t)"
      ],
      "metadata": {
        "id": "etbl5ewDzChy",
        "colab": {
          "base_uri": "https://localhost:8080/"
        },
        "outputId": "2816c39b-6b24-4881-923d-3c4b414bb0c1"
      },
      "execution_count": null,
      "outputs": [
        {
          "output_type": "stream",
          "name": "stdout",
          "text": [
            "+---------------+----------------+\n",
            "|     inputs    | # empty spaces |\n",
            "+---------------+----------------+\n",
            "|     textID    |       0        |\n",
            "|      text     |       0        |\n",
            "| selected_text |       1        |\n",
            "|   sentiment   |       0        |\n",
            "+---------------+----------------+\n"
          ]
        }
      ]
    },
    {
      "cell_type": "code",
      "source": [
        "t = PrettyTable(['inputs','# empty spaces'])\n",
        "\n",
        "for i in range(len(df_test.columns)):\n",
        "  t.add_row([f'{df_test.columns[i]}',f'{df_test.isnull().sum()[i] }'])\n",
        "\n",
        "print(t)"
      ],
      "metadata": {
        "colab": {
          "base_uri": "https://localhost:8080/"
        },
        "id": "viF4WryKzpNM",
        "outputId": "98f73139-4dca-4541-9579-5834bd539834"
      },
      "execution_count": null,
      "outputs": [
        {
          "output_type": "stream",
          "name": "stdout",
          "text": [
            "+-----------+----------------+\n",
            "|   inputs  | # empty spaces |\n",
            "+-----------+----------------+\n",
            "|   textID  |       0        |\n",
            "|    text   |       0        |\n",
            "| sentiment |       0        |\n",
            "+-----------+----------------+\n"
          ]
        }
      ]
    },
    {
      "cell_type": "code",
      "source": [
        "# We take out the duplicates and we check the new dataframe dimentions\n",
        "\n",
        "t = PrettyTable(['Inputs', 'Dimentions'])\n",
        "t.add_row([f'preciding Train', f'{df_train.shape}'])\n",
        "t.add_row([f'preciding Test', f'{df_test.shape}'])\n",
        "\n",
        "df_train.drop_duplicates()\n",
        "df_test.drop_duplicates()\n",
        "\n",
        "t.add_row([f'new Train',f'{df_train.shape}'])\n",
        "t.add_row([f'new Test',f'{df_test.shape}'])\n",
        "\n",
        "print(t)"
      ],
      "metadata": {
        "colab": {
          "base_uri": "https://localhost:8080/"
        },
        "id": "RDVlnyxG27K_",
        "outputId": "fce57b52-d603-4ceb-d611-e101b5041140"
      },
      "execution_count": null,
      "outputs": [
        {
          "output_type": "stream",
          "name": "stdout",
          "text": [
            "+-----------------+------------+\n",
            "|      Inputs     | Dimentions |\n",
            "+-----------------+------------+\n",
            "| preciding Train | (27481, 4) |\n",
            "|  preciding Test | (3534, 3)  |\n",
            "|    new Train    | (27481, 4) |\n",
            "|     new Test    | (3534, 3)  |\n",
            "+-----------------+------------+\n"
          ]
        }
      ]
    },
    {
      "cell_type": "code",
      "source": [
        "# We check the nule values distribution\n",
        "\n",
        "msno.matrix(df_train, color = (0,1,0))\n",
        "plt.show()"
      ],
      "metadata": {
        "colab": {
          "base_uri": "https://localhost:8080/",
          "height": 297
        },
        "id": "jjgKxzpa56yo",
        "outputId": "46f9635c-7a66-4d55-c0a5-07a744affea9"
      },
      "execution_count": null,
      "outputs": [
        {
          "output_type": "display_data",
          "data": {
            "text/plain": [
              "<Figure size 1800x720 with 2 Axes>"
            ],
            "image/png": "[encoded data removed]"
          },
          "metadata": {
            "needs_background": "light"
          }
        }
      ]
    },
    {
      "cell_type": "markdown",
      "source": [
        "## Data visualization"
      ],
      "metadata": {
        "id": "Rglfxhcb_dbx"
      }
    },
    {
      "cell_type": "code",
      "source": [
        "\"\"\"\n",
        "INFORMACIÓN SOBRE ALGUNAS FUNCIONES\n",
        "\n",
        "value_counts(self): devuelve el conteo de la cantidad de veces que aparacen los elementos en el df\n",
        "index(self):        devuelve una lista de las etiquetas de las columnas del df\n",
        "\"\"\"\n",
        "\n",
        "df_count_train=df_train[\"sentiment\"].value_counts()\n",
        "df_count_test=df_test[\"sentiment\"].value_counts()\n",
        "\n",
        "df_count = df_count_train + df_count_test\n",
        "\n",
        "t = PrettyTable(['Sentiment', 'Amount'])\n",
        "\n",
        "for i in df_count.index:\n",
        "  t.add_row([f'{i}', df_count[i]])\n",
        "print(t)"
      ],
      "metadata": {
        "colab": {
          "base_uri": "https://localhost:8080/"
        },
        "id": "EL6ZRiyB9HJS",
        "outputId": "87d98e65-c837-4273-e57d-37b67fb729cb"
      },
      "execution_count": null,
      "outputs": [
        {
          "output_type": "stream",
          "name": "stdout",
          "text": [
            "+-----------+--------+\n",
            "| Sentiment | Amount |\n",
            "+-----------+--------+\n",
            "|  neutral  | 12548  |\n",
            "|  positive |  9685  |\n",
            "|  negative |  8782  |\n",
            "+-----------+--------+\n"
          ]
        }
      ]
    },
    {
      "cell_type": "code",
      "source": [
        "# Data distribution\n",
        "\n",
        "\n",
        "colors = [ \"#279fcf\",\"#45f5a3\",\"#e7f089\",\"#2bbabd\",\"#2368cf\" ]\n",
        "\n",
        "plt.figure(figsize = (15,10))\n",
        "plt.subplot(1,2,1)\n",
        "plt.pie(df_count_train, labels = df_count_train.index, colors = colors, explode=(0.05,0.05,0.05), autopct=\"%0.1f%%\",shadow = True)\n",
        "\n",
        "circle = plt.Circle((0,0),0.5, color = 'white')\n",
        "p = plt.gcf()\n",
        "p.gca().add_artist(circle)\n",
        "plt.title(\"Data train\")\n",
        "\n",
        "plt.subplot(1, 2, 2)\n",
        "plt.pie(df_count_test, labels=df_count_test.index, colors=colors, explode=(0.05,0.05,0.05), autopct=\"%0.1f%%\",shadow = True)\n",
        "circle = plt.Circle( (0,0), 0.5, color='white')\n",
        "p = plt.gcf()\n",
        "p.gca().add_artist(circle)\n",
        "plt.title(\"Data test\")\n",
        "\n",
        "plt.rcParams[\"figure.figsize\"] = (14, 6)\n",
        "plt.show()\n"
      ],
      "metadata": {
        "id": "O1TYGBRgAGgN",
        "colab": {
          "base_uri": "https://localhost:8080/",
          "height": 316
        },
        "outputId": "baba724d-ec1b-44c7-e4c7-dc265447a631"
      },
      "execution_count": null,
      "outputs": [
        {
          "output_type": "display_data",
          "data": {
            "text/plain": [
              "<Figure size 1080x720 with 2 Axes>"
            ],
            "image/png": "[encoded data removed]"
          },
          "metadata": {}
        }
      ]
    },
    {
      "cell_type": "code",
      "source": [
        "# Amount of tweets characters Histogram \n",
        "\n",
        "fig,(ax1,ax2,ax3)=plt.subplots(1,3,figsize=(25,5))\n",
        "\n",
        "tweet_len=df_train[df_train['sentiment']==\"neutral\"]['text'].str.len()  #longitud de la cadena de texto de cada tweet tal que\n",
        "ax1.hist(tweet_len,bins=20,rwidth=0.9,color='g')                                            #esta asociado a un sentimiento=Extremely Positive\n",
        "ax1.set_title('Sentiment: Neutral')\n",
        "ax1.set_ylabel('Tweets Amount')\n",
        "ax1.set_xlabel('Characteres Amount')\n",
        "\n",
        "tweet_len=df_train[df_train['sentiment']==\"positive\"]['text'].str.len()\n",
        "ax2.hist(tweet_len,bins=20,rwidth=0.9,color='b')\n",
        "ax2.set_title('Sentiment: Positive')\n",
        "ax2.set_xlabel('Characters Amount')\n",
        "\n",
        "tweet_len=df_train[df_train['sentiment']==\"negative\"]['text'].str.len()\n",
        "ax3.hist(tweet_len,bins=20,rwidth=0.9,color='r')\n",
        "ax3.set_title('Sentiment : Negative')\n",
        "ax3.set_xlabel('Characters Amount')"
      ],
      "metadata": {
        "colab": {
          "base_uri": "https://localhost:8080/",
          "height": 179
        },
        "id": "ik55eZAcEHSi",
        "outputId": "1c35b0c6-c6d5-4e86-ac8a-d3437a8fb75b"
      },
      "execution_count": null,
      "outputs": [
        {
          "output_type": "execute_result",
          "data": {
            "text/plain": [
              "Text(0.5, 0, 'Characters Amount')"
            ]
          },
          "metadata": {},
          "execution_count": 17
        },
        {
          "output_type": "display_data",
          "data": {
            "text/plain": [
              "<Figure size 1800x360 with 3 Axes>"
            ],
            "image/png": "[encoded data removed]"
          },
          "metadata": {
            "needs_background": "light"
          }
        }
      ]
    },
    {
      "cell_type": "code",
      "source": [
        "#### Check this, to count tehe amount of words related with an specific sentiment \n",
        "\n",
        "\n",
        "# Amount of words in tweets_: Histogram\n",
        "\n",
        "fig,(ax1,ax2,ax3)=plt.subplots(1,3,figsize=(25,5))\n",
        "\n",
        "\n",
        "tweet_len=df_train[df_train['sentiment']==\"Positive\"]['text'].str.split()\n",
        "tweet_len=tweet_len.apply(len)\n",
        "ax1.hist(tweet_len,bins=20,rwidth=0.9,color='b')\n",
        "ax1.set_title('Sentiment: Positive')\n",
        "ax1.set_xlabel('words amount')\n",
        "\n",
        "tweet_len=df_train[df_train['sentiment']==\"Neutral\"]['text'].str.split()\n",
        "tweet_len=tweet_len.apply(len)\n",
        "ax2.hist(tweet_len,bins=20,rwidth=0.9,color='r')\n",
        "ax2.set_title('Sentiment: Neutral')\n",
        "ax2.set_xlabel('words amount')\n",
        "\n",
        "tweet_len=df_train[df_train['sentiment']==\"Negative\"]['text'].str.split()\n",
        "tweet_len=tweet_len.apply(len)\n",
        "ax3.hist(tweet_len,bins=20,rwidth=0.9,color='k')\n",
        "ax3.set_title('Sentimiento: Negative')\n",
        "ax3.set_xlabel('words amount')\n",
        "\n"
      ],
      "metadata": {
        "id": "kHLoSFQjGh4O",
        "colab": {
          "base_uri": "https://localhost:8080/",
          "height": 388
        },
        "outputId": "b179710d-d023-44f8-a18b-6c1c12af6df4"
      },
      "execution_count": null,
      "outputs": [
        {
          "output_type": "execute_result",
          "data": {
            "text/plain": [
              "Text(0.5, 0, 'words amount')"
            ]
          },
          "metadata": {},
          "execution_count": 11
        },
        {
          "output_type": "display_data",
          "data": {
            "text/plain": [
              "<Figure size 1800x360 with 3 Axes>"
            ],
            "image/png": "[encoded data removed]"
          },
          "metadata": {
            "needs_background": "light"
          }
        }
      ]
    },
    {
      "cell_type": "code",
      "source": [
        "# To create a word list, from original tweets\n",
        "\n",
        "def palabras(df):\n",
        "    for x in df['text'].str.split():     #se crea una lista de palabras de cada tweet\n",
        "        for i in x:\n",
        "            list_palabras.append(i)               #se almacenan todas las palabras en una unica lista\n",
        "    return list_palabras\n",
        "\n",
        "list_palabras=[]\n",
        "\n",
        "for i in range(5):\n",
        "  palabras(df_train[int(len(df_train)*i/5):int((len(df_train)*(i+1)/5))])  #se divide el proceso para no alcanzar el max de iteraciones de la maquina\n"
      ],
      "metadata": {
        "id": "CYZDccJI1B1u"
      },
      "execution_count": null,
      "outputs": []
    },
    {
      "cell_type": "code",
      "source": [
        "# cloud words regarding frequency\n",
        "print(STOPWORDS)\n",
        "print(\"Longitud de STOPWORDS: \", len(STOPWORDS))\n",
        "\n",
        "# STOPWORDS: to descart some words\n",
        "\n"
      ],
      "metadata": {
        "colab": {
          "base_uri": "https://localhost:8080/"
        },
        "id": "pjbueMkc25c6",
        "outputId": "a6ce1f91-1a8f-4519-e64d-351411dea5bc"
      },
      "execution_count": null,
      "outputs": [
        {
          "output_type": "stream",
          "name": "stdout",
          "text": [
            "{'is', \"don't\", 'not', 'than', \"you'll\", 'myself', 'ours', \"wouldn't\", \"she'd\", 'like', \"didn't\", \"i'd\", 'we', 'her', 'each', \"i've\", 'yourselves', \"we're\", \"there's\", 'otherwise', 'does', \"haven't\", 'during', 'was', 'can', 'however', 'theirs', \"you've\", 'while', 'which', 'again', 'k', \"i'm\", 'who', \"they'd\", \"we'll\", \"who's\", 'he', 'how', 'but', 'if', 'of', \"they're\", 'did', 'any', 'him', 'all', \"i'll\", 'they', 'itself', 'their', 'do', 'them', 'nor', \"he'll\", \"wasn't\", 'through', 'being', 'this', 'get', 'and', 'since', 'ourselves', 'when', \"when's\", 'could', 'therefore', 'himself', 'ever', 'me', 'r', \"how's\", 'would', 'by', 'after', 'those', \"let's\", 'such', \"hasn't\", 'to', 'between', 'shall', \"aren't\", \"he'd\", 'herself', 'yourself', 'doing', 'at', \"where's\", 'for', 'the', 'just', 'once', 'other', 'hers', 'over', 'further', 'were', 'where', 'your', 'yours', 'been', 'also', 'until', 'http', 'themselves', 'why', 'down', 'most', 'too', 'an', \"isn't\", \"here's\", 'here', 'have', 'about', 'no', 'very', 'are', 'hence', 'only', 'our', 'she', \"we've\", \"can't\", 'off', 'some', 'that', \"she'll\", 'before', 'from', 'you', \"you'd\", 'so', 'be', 'both', \"weren't\", \"shouldn't\", \"they've\", 'its', 'my', 'on', \"shan't\", 'with', \"we'd\", 'a', 'www', 'it', 'as', \"he's\", 'his', 'com', 'into', \"hadn't\", 'having', 'else', 'ought', 'against', 'these', 'few', \"that's\", 'below', 'or', 'up', 'more', \"it's\", 'whom', 'out', 'above', 'should', \"why's\", \"she's\", 'cannot', \"won't\", 'am', \"they'll\", 'i', 'then', 'in', 'because', 'same', \"mustn't\", \"doesn't\", \"you're\", 'has', 'own', \"couldn't\", 'there', \"what's\", 'had', 'under', 'what'}\n",
            "Longitud de STOPWORDS:  192\n"
          ]
        }
      ]
    },
    {
      "cell_type": "code",
      "source": [
        "STOPWORDS .update([\"https\",\"co\",\"I\",\"will\",\"the\",''])  #agregamos algunas palabras no deseadas\n",
        "\n",
        "  \n",
        "def minusculas(list_palabras):\n",
        "  comment_words = ''        #para guardar todas las palabras como cadena de texto\n",
        "  for val in list_palabras: \n",
        "        \n",
        "      val = str(val)        #nos aseguramos que cada elemento sea string\n",
        "      tokens = val.split()  #creamos listas de caracteres \n",
        "        \n",
        "      for i in range(len(tokens)): \n",
        "          tokens[i] = tokens[i].lower()     #cada letra se vuelve minúscula\n",
        "\n",
        "      comment_words += \"\".join(tokens)+\" \"  #unimos de nuevo el elemento\n",
        "                                              # y a su vez lo unimos a una unica cadena de texto\n",
        "  return comment_words                                        \n",
        "\n",
        "comment_words=minusculas(list_palabras)\n",
        "\n",
        "#generamos el mapa de palabras\n",
        "wordcloud = WordCloud(width = 800, height = 800, \n",
        "                background_color ='black',\n",
        "                colormap='jet',\n",
        "                stopwords = STOPWORDS, \n",
        "                min_font_size = 15).generate(comment_words) \n",
        "  \n",
        "# graficamos la nube de palabras                        \n",
        "plt.figure(figsize = (8, 8), facecolor = \"white\") \n",
        "plt.imshow(wordcloud)\n",
        "plt.axis(\"off\") \n",
        "plt.tight_layout(pad = 0) \n",
        "plt.show() "
      ],
      "metadata": {
        "colab": {
          "base_uri": "https://localhost:8080/"
        },
        "id": "TxkR0Gie2_Qt",
        "outputId": "9b595fed-e865-4a2f-fd63-b3d8b839862a"
      },
      "execution_count": null,
      "outputs": [
        {
          "output_type": "stream",
          "name": "stdout",
          "text": [
            "['I`d', 'have', 'responded,', 'if', 'I', 'were', 'going']\n",
            "['Sooo', 'SAD', 'I', 'will', 'miss', 'you', 'here', 'in', 'San', 'Diego!!!']\n"
          ]
        }
      ]
    },
    {
      "cell_type": "code",
      "source": [],
      "metadata": {
        "id": "x3nYvuNu3trU"
      },
      "execution_count": null,
      "outputs": []
    }
  ]
}